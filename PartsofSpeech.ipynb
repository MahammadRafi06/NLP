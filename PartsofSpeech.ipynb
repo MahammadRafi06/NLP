{
 "cells": [
  {
   "cell_type": "code",
   "execution_count": 13,
   "metadata": {},
   "outputs": [],
   "source": [
    "speech = \"\"\" Today, I address you in sadness and sorrow. The people who have lived together for centuries are now being separated. \n",
    "I cannot express in words the sorrow and pain that this separation has caused. The decision to divide this country, which was united for centuries, was a grave mistake, \n",
    "and the consequences of this mistake are now evident before us.\n",
    "Remember, the history of Islam in India is not just the history of Muslims alone. It is the history of India as a whole. Muslims have lived in this land for over a thousand years, \n",
    "and their blood has mingled with the soil of this country. They have contributed to its culture, its traditions, and its heritage. This land is as much ours as it is of our Hindu brothers.\n",
    "In the face of this crisis, I appeal to you to remain steadfast and not to leave your homeland. This country is yours, just as it is of every other Indian. Do not be swayed by the \n",
    "forces of division and hatred. I know that the circumstances are difficult, but it is essential to remember that no one can take away your right to live in this country. \n",
    "The soil of this land has been watered with the blood of our ancestors, and it is our duty to protect it.\n",
    "I have said it before, and I say it again: India cannot be divided. Religion cannot be the basis of nationhood. Religion is a personal matter, and it should remain so. \n",
    "The creation of Pakistan has not solved the problem; instead, it has created new ones. The idea that Muslims and Hindus cannot live together is a myth, and history has proven it wrong time and again.\n",
    "In these times of trial, it is more important than ever to stand united. Do not let fear or anger drive you away from your homes. Let us work together to rebuild our country, \n",
    "to heal the wounds that have been inflicted upon it. Let us work towards a future where all communities can live together in peace and harmony.\n",
    "Today, as we stand at the crossroads of history, let us pledge to uphold the ideals of unity, justice, and brotherhood. Let us reject the forces of division and embrace the spirit of inclusiveness \n",
    "that has always been the hallmark of our great civilization. This is our country, and we must ensure that it remains a land of peace, progress, and harmony for all\n",
    "\"\"\""
   ]
  },
  {
   "cell_type": "code",
   "execution_count": 14,
   "metadata": {},
   "outputs": [
    {
     "data": {
      "text/plain": [
       "[' Today, I address you in sadness and sorrow.',\n",
       " 'The people who have lived together for centuries are now being separated.',\n",
       " 'I cannot express in words the sorrow and pain that this separation has caused.',\n",
       " 'The decision to divide this country, which was united for centuries, was a grave mistake, \\nand the consequences of this mistake are now evident before us.',\n",
       " 'Remember, the history of Islam in India is not just the history of Muslims alone.',\n",
       " 'It is the history of India as a whole.',\n",
       " 'Muslims have lived in this land for over a thousand years, \\nand their blood has mingled with the soil of this country.',\n",
       " 'They have contributed to its culture, its traditions, and its heritage.',\n",
       " 'This land is as much ours as it is of our Hindu brothers.',\n",
       " 'In the face of this crisis, I appeal to you to remain steadfast and not to leave your homeland.',\n",
       " 'This country is yours, just as it is of every other Indian.',\n",
       " 'Do not be swayed by the \\nforces of division and hatred.',\n",
       " 'I know that the circumstances are difficult, but it is essential to remember that no one can take away your right to live in this country.',\n",
       " 'The soil of this land has been watered with the blood of our ancestors, and it is our duty to protect it.',\n",
       " 'I have said it before, and I say it again: India cannot be divided.',\n",
       " 'Religion cannot be the basis of nationhood.',\n",
       " 'Religion is a personal matter, and it should remain so.',\n",
       " 'The creation of Pakistan has not solved the problem; instead, it has created new ones.',\n",
       " 'The idea that Muslims and Hindus cannot live together is a myth, and history has proven it wrong time and again.',\n",
       " 'In these times of trial, it is more important than ever to stand united.',\n",
       " 'Do not let fear or anger drive you away from your homes.',\n",
       " 'Let us work together to rebuild our country, \\nto heal the wounds that have been inflicted upon it.',\n",
       " 'Let us work towards a future where all communities can live together in peace and harmony.',\n",
       " 'Today, as we stand at the crossroads of history, let us pledge to uphold the ideals of unity, justice, and brotherhood.',\n",
       " 'Let us reject the forces of division and embrace the spirit of inclusiveness \\nthat has always been the hallmark of our great civilization.',\n",
       " 'This is our country, and we must ensure that it remains a land of peace, progress, and harmony for all']"
      ]
     },
     "execution_count": 14,
     "metadata": {},
     "output_type": "execute_result"
    }
   ],
   "source": [
    "\n",
    "from nltk.tokenize import sent_tokenize\n",
    "sentences = sent_tokenize(speech)\n",
    "sentences"
   ]
  },
  {
   "cell_type": "code",
   "execution_count": 17,
   "metadata": {},
   "outputs": [
    {
     "name": "stdout",
     "output_type": "stream",
     "text": [
      "[('Today', 'NN'), (',', ','), ('I', 'PRP'), ('address', 'VBP'), ('sadness', 'JJ'), ('sorrow', 'NN'), ('.', '.')]\n",
      "[('The', 'DT'), ('people', 'NNS'), ('lived', 'VBD'), ('together', 'RB'), ('centuries', 'NNS'), ('separated', 'VBD'), ('.', '.')]\n",
      "[('I', 'PRP'), ('express', 'VBP'), ('words', 'NNS'), ('sorrow', 'VBP'), ('pain', 'NN'), ('separation', 'NN'), ('caused', 'VBD'), ('.', '.')]\n",
      "[('The', 'DT'), ('decision', 'NN'), ('divide', 'JJ'), ('country', 'NN'), (',', ','), ('united', 'JJ'), ('centuries', 'NNS'), (',', ','), ('grave', 'VBP'), ('mistake', 'NN'), (',', ','), ('consequences', 'NNS'), ('mistake', 'VBP'), ('evident', 'JJ'), ('us', 'PRP'), ('.', '.')]\n",
      "[('Remember', 'NNP'), (',', ','), ('history', 'NN'), ('Islam', 'NNP'), ('India', 'NNP'), ('history', 'NN'), ('Muslims', 'NNP'), ('alone', 'RB'), ('.', '.')]\n",
      "[('It', 'PRP'), ('history', 'NN'), ('India', 'NNP'), ('whole', 'NN'), ('.', '.')]\n",
      "[('Muslims', 'NNS'), ('lived', 'VBD'), ('land', 'NN'), ('thousand', 'CD'), ('years', 'NNS'), (',', ','), ('blood', 'NN'), ('mingled', 'VBD'), ('soil', 'NN'), ('country', 'NN'), ('.', '.')]\n",
      "[('They', 'PRP'), ('contributed', 'VBD'), ('culture', 'NN'), (',', ','), ('traditions', 'NNS'), (',', ','), ('heritage', 'NN'), ('.', '.')]\n",
      "[('This', 'DT'), ('land', 'NN'), ('much', 'RB'), ('Hindu', 'NNP'), ('brothers', 'NNS'), ('.', '.')]\n",
      "[('In', 'IN'), ('face', 'NN'), ('crisis', 'NN'), (',', ','), ('I', 'PRP'), ('appeal', 'VBP'), ('remain', 'VB'), ('steadfast', 'JJ'), ('leave', 'JJ'), ('homeland', 'NN'), ('.', '.')]\n",
      "[('This', 'DT'), ('country', 'NN'), (',', ','), ('every', 'DT'), ('Indian', 'NN'), ('.', '.')]\n",
      "[('Do', 'VB'), ('swayed', 'NNS'), ('forces', 'VB'), ('division', 'NN'), ('hatred', 'VBN'), ('.', '.')]\n",
      "[('I', 'PRP'), ('know', 'VBP'), ('circumstances', 'NNS'), ('difficult', 'JJ'), (',', ','), ('essential', 'JJ'), ('remember', 'VB'), ('one', 'CD'), ('take', 'VB'), ('away', 'RB'), ('right', 'JJ'), ('live', 'JJ'), ('country', 'NN'), ('.', '.')]\n",
      "[('The', 'DT'), ('soil', 'NN'), ('land', 'NN'), ('watered', 'VBD'), ('blood', 'NN'), ('ancestors', 'NNS'), (',', ','), ('duty', 'NN'), ('protect', 'NN'), ('.', '.')]\n",
      "[('I', 'PRP'), ('said', 'VBD'), (',', ','), ('I', 'PRP'), ('say', 'VBP'), (':', ':'), ('India', 'NNP'), ('divided', 'VBD'), ('.', '.')]\n",
      "[('Religion', 'NNP'), ('basis', 'NN'), ('nationhood', 'NN'), ('.', '.')]\n",
      "[('Religion', 'NNP'), ('personal', 'JJ'), ('matter', 'NN'), (',', ','), ('remain', 'VBP'), ('.', '.')]\n",
      "[('The', 'DT'), ('creation', 'NN'), ('Pakistan', 'NNP'), ('solved', 'VBD'), ('problem', 'NN'), (';', ':'), ('instead', 'RB'), (',', ','), ('created', 'VBD'), ('new', 'JJ'), ('ones', 'NNS'), ('.', '.')]\n",
      "[('The', 'DT'), ('idea', 'NN'), ('Muslims', 'NNP'), ('Hindus', 'NNP'), ('live', 'VBP'), ('together', 'RB'), ('myth', 'JJ'), (',', ','), ('history', 'NN'), ('proven', 'RB'), ('wrong', 'JJ'), ('time', 'NN'), ('.', '.')]\n",
      "[('In', 'IN'), ('times', 'NNS'), ('trial', 'NN'), (',', ','), ('important', 'JJ'), ('ever', 'RB'), ('stand', 'VBP'), ('united', 'JJ'), ('.', '.')]\n",
      "[('Do', 'NNP'), ('let', 'VBD'), ('fear', 'VB'), ('anger', 'JJ'), ('drive', 'VB'), ('away', 'RP'), ('homes', 'NNS'), ('.', '.')]\n",
      "[('Let', 'VB'), ('us', 'PRP'), ('work', 'VB'), ('together', 'RB'), ('rebuild', 'JJ'), ('country', 'NN'), (',', ','), ('heal', 'JJ'), ('wounds', 'NNS'), ('inflicted', 'VBN'), ('upon', 'IN'), ('.', '.')]\n",
      "[('Let', 'VB'), ('us', 'PRP'), ('work', 'VB'), ('towards', 'NNS'), ('future', 'JJ'), ('communities', 'NNS'), ('live', 'VBP'), ('together', 'RB'), ('peace', 'NN'), ('harmony', 'NN'), ('.', '.')]\n",
      "[('Today', 'NN'), (',', ','), ('stand', 'VBP'), ('crossroads', 'NNS'), ('history', 'NN'), (',', ','), ('let', 'VB'), ('us', 'PRP'), ('pledge', 'VB'), ('uphold', 'JJ'), ('ideals', 'NNS'), ('unity', 'NN'), (',', ','), ('justice', 'NN'), (',', ','), ('brotherhood', 'NN'), ('.', '.')]\n",
      "[('Let', 'VB'), ('us', 'PRP'), ('reject', 'VB'), ('forces', 'NNS'), ('division', 'NN'), ('embrace', 'NN'), ('spirit', 'NN'), ('inclusiveness', 'NN'), ('always', 'RB'), ('hallmark', 'RB'), ('great', 'JJ'), ('civilization', 'NN'), ('.', '.')]\n",
      "[('This', 'DT'), ('country', 'NN'), (',', ','), ('must', 'MD'), ('ensure', 'VB'), ('remains', 'VBZ'), ('land', 'JJ'), ('peace', 'NN'), (',', ','), ('progress', 'NN'), (',', ','), ('harmony', 'NN')]\n"
     ]
    }
   ],
   "source": [
    "from nltk.tokenize import word_tokenize\n",
    "from nltk.tag import pos_tag\n",
    "from nltk.corpus import stopwords\n",
    "clean_sentences =[]\n",
    "for setence in sentences:\n",
    "    words = word_tokenize(setence)\n",
    "    clean_words = [word for word in words if word not in stopwords.words('english') ]\n",
    "    pos_tag1 = pos_tag(clean_words)\n",
    "    print(pos_tag1)"
   ]
  },
  {
   "cell_type": "code",
   "execution_count": 29,
   "metadata": {},
   "outputs": [
    {
     "data": {
      "text/plain": [
       "[('Taj', 'NNP'),\n",
       " ('Mahal', 'NNP'),\n",
       " ('is', 'VBZ'),\n",
       " ('beatutiful', 'JJ'),\n",
       " ('monument', 'NN')]"
      ]
     },
     "execution_count": 29,
     "metadata": {},
     "output_type": "execute_result"
    }
   ],
   "source": [
    "from nltk.tag import pos_tag_sents\n",
    "\n",
    "sentence = \"Taj Mahal is beatutiful monument \"\n",
    "pos_tag(sentence.split())"
   ]
  }
 ],
 "metadata": {
  "kernelspec": {
   "display_name": "Python 3",
   "language": "python",
   "name": "python3"
  },
  "language_info": {
   "codemirror_mode": {
    "name": "ipython",
    "version": 3
   },
   "file_extension": ".py",
   "mimetype": "text/x-python",
   "name": "python",
   "nbconvert_exporter": "python",
   "pygments_lexer": "ipython3",
   "version": "3.10.14"
  }
 },
 "nbformat": 4,
 "nbformat_minor": 2
}
