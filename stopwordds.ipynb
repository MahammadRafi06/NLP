{
 "cells": [
  {
   "cell_type": "code",
   "execution_count": 13,
   "metadata": {},
   "outputs": [],
   "source": [
    "speech = \"\"\" Today, I address you in sadness and sorrow. The people who have lived together for centuries are now being separated. \n",
    "I cannot express in words the sorrow and pain that this separation has caused. The decision to divide this country, which was united for centuries, was a grave mistake, \n",
    "and the consequences of this mistake are now evident before us.\n",
    "Remember, the history of Islam in India is not just the history of Muslims alone. It is the history of India as a whole. Muslims have lived in this land for over a thousand years, \n",
    "and their blood has mingled with the soil of this country. They have contributed to its culture, its traditions, and its heritage. This land is as much ours as it is of our Hindu brothers.\n",
    "In the face of this crisis, I appeal to you to remain steadfast and not to leave your homeland. This country is yours, just as it is of every other Indian. Do not be swayed by the \n",
    "forces of division and hatred. I know that the circumstances are difficult, but it is essential to remember that no one can take away your right to live in this country. \n",
    "The soil of this land has been watered with the blood of our ancestors, and it is our duty to protect it.\n",
    "I have said it before, and I say it again: India cannot be divided. Religion cannot be the basis of nationhood. Religion is a personal matter, and it should remain so. \n",
    "The creation of Pakistan has not solved the problem; instead, it has created new ones. The idea that Muslims and Hindus cannot live together is a myth, and history has proven it wrong time and again.\n",
    "In these times of trial, it is more important than ever to stand united. Do not let fear or anger drive you away from your homes. Let us work together to rebuild our country, \n",
    "to heal the wounds that have been inflicted upon it. Let us work towards a future where all communities can live together in peace and harmony.\n",
    "Today, as we stand at the crossroads of history, let us pledge to uphold the ideals of unity, justice, and brotherhood. Let us reject the forces of division and embrace the spirit of inclusiveness \n",
    "that has always been the hallmark of our great civilization. This is our country, and we must ensure that it remains a land of peace, progress, and harmony for all\n",
    "\"\"\""
   ]
  },
  {
   "cell_type": "code",
   "execution_count": 24,
   "metadata": {},
   "outputs": [
    {
     "name": "stderr",
     "output_type": "stream",
     "text": [
      "[nltk_data] Downloading package stopwords to\n",
      "[nltk_data]     C:\\Users\\mrafi\\AppData\\Roaming\\nltk_data...\n",
      "[nltk_data]   Package stopwords is already up-to-date!\n"
     ]
    },
    {
     "data": {
      "text/plain": [
       "True"
      ]
     },
     "execution_count": 24,
     "metadata": {},
     "output_type": "execute_result"
    }
   ],
   "source": [
    "import nltk\n",
    "nltk.download('stopwords')"
   ]
  },
  {
   "cell_type": "code",
   "execution_count": 29,
   "metadata": {},
   "outputs": [],
   "source": [
    "from nltk.stem import PorterStemmer, SnowballStemmer\n",
    "from nltk.corpus import stopwords"
   ]
  },
  {
   "cell_type": "code",
   "execution_count": 26,
   "metadata": {},
   "outputs": [
    {
     "ename": "TypeError",
     "evalue": "'WordListCorpusReader' object is not callable",
     "output_type": "error",
     "traceback": [
      "\u001b[1;31m---------------------------------------------------------------------------\u001b[0m",
      "\u001b[1;31mTypeError\u001b[0m                                 Traceback (most recent call last)",
      "Cell \u001b[1;32mIn[26], line 1\u001b[0m\n\u001b[1;32m----> 1\u001b[0m \u001b[43mstopwords\u001b[49m\u001b[43m(\u001b[49m\u001b[38;5;124;43m\"\u001b[39;49m\u001b[38;5;124;43menglish\u001b[39;49m\u001b[38;5;124;43m\"\u001b[39;49m\u001b[43m)\u001b[49m\n",
      "\u001b[1;31mTypeError\u001b[0m: 'WordListCorpusReader' object is not callable"
     ]
    }
   ],
   "source": [
    "stopwords(\"english\")"
   ]
  },
  {
   "cell_type": "code",
   "execution_count": 21,
   "metadata": {},
   "outputs": [],
   "source": [
    "stemmer = PorterStemmer()\n",
    "sentences = nltk.sent_tokenize(speech)"
   ]
  },
  {
   "cell_type": "code",
   "execution_count": 28,
   "metadata": {},
   "outputs": [
    {
     "data": {
      "text/plain": [
       "['today , i address sad sorrow .',\n",
       " 'the peopl live togeth centuri separ .',\n",
       " 'i express word sorrow pain separ caus .',\n",
       " 'the decis divid countri , unit centuri , grave mistak , consequ mistak evid us .',\n",
       " 'rememb , histori islam india histori muslim alon .',\n",
       " 'it histori india whole .',\n",
       " 'muslim live land thousand year , blood mingl soil countri .',\n",
       " 'they contribut cultur , tradit , heritag .',\n",
       " 'thi land much hindu brother .',\n",
       " 'in face crisi , i appeal remain steadfast leav homeland .',\n",
       " 'thi countri , everi indian .',\n",
       " 'do sway forc divis hatr .',\n",
       " 'i know circumst difficult , essenti rememb one take away right live countri .',\n",
       " 'the soil land water blood ancestor , duti protect .',\n",
       " 'i said , i say : india divid .',\n",
       " 'religion basi nationhood .',\n",
       " 'religion person matter , remain .',\n",
       " 'the creation pakistan solv problem ; instead , creat new one .',\n",
       " 'the idea muslim hindu live togeth myth , histori proven wrong time .',\n",
       " 'in time trial , import ever stand unit .',\n",
       " 'do let fear anger drive away home .',\n",
       " 'let us work togeth rebuild countri , heal wound inflict upon .',\n",
       " 'let us work toward futur commun live togeth peac harmoni .',\n",
       " 'today , stand crossroad histori , let us pledg uphold ideal uniti , justic , brotherhood .',\n",
       " 'let us reject forc divis embrac spirit inclus alway hallmark great civil .',\n",
       " 'thi countri , must ensur remain land peac , progress , harmoni']"
      ]
     },
     "execution_count": 28,
     "metadata": {},
     "output_type": "execute_result"
    }
   ],
   "source": [
    "from nltk.tokenize import word_tokenize\n",
    "clean_sentences =[]\n",
    "for setence in sentences:\n",
    "    words = word_tokenize(setence)\n",
    "    clean_words = [stemmer.stem(word) for word in words if word not in stopwords.words('english') ]\n",
    "    clean_sentence = ' '.join(clean_words)\n",
    "    clean_sentences.append(clean_sentence)\n",
    "clean_sentences"
   ]
  },
  {
   "cell_type": "code",
   "execution_count": 31,
   "metadata": {},
   "outputs": [
    {
     "data": {
      "text/plain": [
       "['today , i address sad sorrow .',\n",
       " 'the peopl live togeth centuri separ .',\n",
       " 'i express word sorrow pain separ caus .',\n",
       " 'the decis divid countri , unit centuri , grave mistak , consequ mistak evid us .',\n",
       " 'rememb , histori islam india histori muslim alon .',\n",
       " 'it histori india whole .',\n",
       " 'muslim live land thousand year , blood mingl soil countri .',\n",
       " 'they contribut cultur , tradit , heritag .',\n",
       " 'this land much hindu brother .',\n",
       " 'in face crisi , i appeal remain steadfast leav homeland .',\n",
       " 'this countri , everi indian .',\n",
       " 'do sway forc divis hatr .',\n",
       " 'i know circumst difficult , essenti rememb one take away right live countri .',\n",
       " 'the soil land water blood ancestor , duti protect .',\n",
       " 'i said , i say : india divid .',\n",
       " 'religion basi nationhood .',\n",
       " 'religion person matter , remain .',\n",
       " 'the creation pakistan solv problem ; instead , creat new one .',\n",
       " 'the idea muslim hindus live togeth myth , histori proven wrong time .',\n",
       " 'in time trial , import ever stand unit .',\n",
       " 'do let fear anger drive away home .',\n",
       " 'let us work togeth rebuild countri , heal wound inflict upon .',\n",
       " 'let us work toward futur communiti live togeth peac harmoni .',\n",
       " 'today , stand crossroad histori , let us pledg uphold ideal uniti , justic , brotherhood .',\n",
       " 'let us reject forc divis embrac spirit inclus alway hallmark great civil .',\n",
       " 'this countri , must ensur remain land peac , progress , harmoni']"
      ]
     },
     "execution_count": 31,
     "metadata": {},
     "output_type": "execute_result"
    }
   ],
   "source": [
    "from nltk.tokenize import word_tokenize\n",
    "snowballstemmer = SnowballStemmer(\"english\")\n",
    "clean_sentences =[]\n",
    "for setence in sentences:\n",
    "    words = word_tokenize(setence)\n",
    "    clean_words = [snowballstemmer.stem(word) for word in words if word not in stopwords.words('english') ]\n",
    "    clean_sentence = ' '.join(clean_words)\n",
    "    clean_sentences.append(clean_sentence)\n",
    "clean_sentences"
   ]
  },
  {
   "cell_type": "code",
   "execution_count": 34,
   "metadata": {},
   "outputs": [
    {
     "data": {
      "text/plain": [
       "['today , address sadness sorrow .',\n",
       " 'people live together centuries separate .',\n",
       " 'express word sorrow pain separation cause .',\n",
       " 'decision divide country , unite centuries , grave mistake , consequences mistake evident us .',\n",
       " 'remember , history islam india history muslims alone .',\n",
       " 'history india whole .',\n",
       " 'muslims live land thousand years , blood mingle soil country .',\n",
       " 'contribute culture , traditions , heritage .',\n",
       " 'land much hindu brothers .',\n",
       " 'face crisis , appeal remain steadfast leave homeland .',\n",
       " 'country , every indian .',\n",
       " 'sway force division hatred .',\n",
       " 'know circumstances difficult , essential remember one take away right live country .',\n",
       " 'soil land water blood ancestors , duty protect .',\n",
       " 'say , say : india divide .',\n",
       " 'religion basis nationhood .',\n",
       " 'religion personal matter , remain .',\n",
       " 'creation pakistan solve problem ; instead , create new ones .',\n",
       " 'idea muslims hindus live together myth , history prove wrong time .',\n",
       " 'time trial , important ever stand unite .',\n",
       " 'let fear anger drive away home .',\n",
       " 'let us work together rebuild country , heal wound inflict upon .',\n",
       " 'let us work towards future communities live together peace harmony .',\n",
       " 'today , stand crossroads history , let us pledge uphold ideals unity , justice , brotherhood .',\n",
       " 'let us reject force division embrace spirit inclusiveness always hallmark great civilization .',\n",
       " 'country , must ensure remain land peace , progress , harmony']"
      ]
     },
     "execution_count": 34,
     "metadata": {},
     "output_type": "execute_result"
    }
   ],
   "source": [
    "from nltk.tokenize import word_tokenize\n",
    "from nltk.stem import WordNetLemmatizer\n",
    "lemmatizer = WordNetLemmatizer()\n",
    "clean_sentences =[]\n",
    "for setence in sentences:\n",
    "    words = word_tokenize(setence.lower())\n",
    "    clean_words = [lemmatizer.lemmatize(word,pos='v') for word in words if word not in stopwords.words('english') ]\n",
    "    clean_sentence = ' '.join(clean_words)\n",
    "    clean_sentences.append(clean_sentence)\n",
    "clean_sentences"
   ]
  }
 ],
 "metadata": {
  "kernelspec": {
   "display_name": "Python 3",
   "language": "python",
   "name": "python3"
  },
  "language_info": {
   "codemirror_mode": {
    "name": "ipython",
    "version": 3
   },
   "file_extension": ".py",
   "mimetype": "text/x-python",
   "name": "python",
   "nbconvert_exporter": "python",
   "pygments_lexer": "ipython3",
   "version": "3.10.14"
  }
 },
 "nbformat": 4,
 "nbformat_minor": 2
}
