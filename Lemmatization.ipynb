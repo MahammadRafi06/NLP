{
 "cells": [
  {
   "cell_type": "code",
   "execution_count": 4,
   "metadata": {},
   "outputs": [
    {
     "name": "stderr",
     "output_type": "stream",
     "text": [
      "[nltk_data] Downloading package wordnet to\n",
      "[nltk_data]     C:\\Users\\mrafi\\AppData\\Roaming\\nltk_data...\n"
     ]
    },
    {
     "data": {
      "text/plain": [
       "True"
      ]
     },
     "execution_count": 4,
     "metadata": {},
     "output_type": "execute_result"
    }
   ],
   "source": [
    "import nltk\n",
    "nltk.download('wordnet')"
   ]
  },
  {
   "cell_type": "code",
   "execution_count": 6,
   "metadata": {},
   "outputs": [
    {
     "data": {
      "text/plain": [
       "'go'"
      ]
     },
     "execution_count": 6,
     "metadata": {},
     "output_type": "execute_result"
    }
   ],
   "source": [
    "from nltk.stem import WordNetLemmatizer\n",
    "lemmatizer = WordNetLemmatizer()\n",
    "\n",
    "\"\"\"\n",
    "POS \n",
    "noun-n\n",
    "verb-v \n",
    "adjective - a\n",
    "adverb - r \n",
    "\"\"\"\n",
    "lemmatizer.lemmatize(\"going\",pos='v')"
   ]
  },
  {
   "cell_type": "code",
   "execution_count": 9,
   "metadata": {},
   "outputs": [
    {
     "name": "stdout",
     "output_type": "stream",
     "text": [
      "eating ----> eat\n",
      "eat ----> eat\n",
      "eaten ----> eat\n",
      "go ----> go\n",
      "gone ----> go\n",
      "went ----> go\n",
      "history ----> history\n",
      "Programing ----> Programing\n",
      "Program ----> Program\n",
      "Finally ----> Finally\n",
      "Finalization ----> Finalization\n"
     ]
    }
   ],
   "source": [
    "words = [\"eating\",\"eat\",\"eaten\",\"go\",\"gone\",\"went\",\"history\",\"Programing\",\"Program\", \"Finally\", \"Finalization\"]\n",
    "for word in words:\n",
    "    print(f\"{word} ----> {lemmatizer.lemmatize(word,pos='v')}\")"
   ]
  },
  {
   "cell_type": "code",
   "execution_count": 11,
   "metadata": {},
   "outputs": [
    {
     "data": {
      "text/plain": [
       "('Fairly', 'Sportingly')"
      ]
     },
     "execution_count": 11,
     "metadata": {},
     "output_type": "execute_result"
    }
   ],
   "source": [
    "lemmatizer.lemmatize(\"Fairly\",pos='r'), lemmatizer.lemmatize(\"Sportingly\",pos='r') ##Porter Stemmer "
   ]
  }
 ],
 "metadata": {
  "kernelspec": {
   "display_name": "Python 3",
   "language": "python",
   "name": "python3"
  },
  "language_info": {
   "codemirror_mode": {
    "name": "ipython",
    "version": 3
   },
   "file_extension": ".py",
   "mimetype": "text/x-python",
   "name": "python",
   "nbconvert_exporter": "python",
   "pygments_lexer": "ipython3",
   "version": "3.10.14"
  }
 },
 "nbformat": 4,
 "nbformat_minor": 2
}
